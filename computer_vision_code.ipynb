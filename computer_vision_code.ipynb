{
  "nbformat": 4,
  "nbformat_minor": 0,
  "metadata": {
    "colab": {
      "provenance": []
    },
    "kernelspec": {
      "name": "python3",
      "display_name": "Python 3"
    },
    "language_info": {
      "name": "python"
    }
  },
  "cells": [
    {
      "cell_type": "code",
      "source": [
        "!pip install easyocr"
      ],
      "metadata": {
        "colab": {
          "base_uri": "https://localhost:8080/"
        },
        "id": "RO6cZGXiLttC",
        "outputId": "edef93f7-b11d-4c45-b2b8-d20f4e16f5fa"
      },
      "execution_count": 1,
      "outputs": [
        {
          "output_type": "stream",
          "name": "stdout",
          "text": [
            "Collecting easyocr\n",
            "  Downloading easyocr-1.7.1-py3-none-any.whl (2.9 MB)\n",
            "\u001b[?25l     \u001b[90m━━━━━━━━━━━━━━━━━━━━━━━━━━━━━━━━━━━━━━━━\u001b[0m \u001b[32m0.0/2.9 MB\u001b[0m \u001b[31m?\u001b[0m eta \u001b[36m-:--:--\u001b[0m\r\u001b[2K     \u001b[91m━\u001b[0m\u001b[90m╺\u001b[0m\u001b[90m━━━━━━━━━━━━━━━━━━━━━━━━━━━━━━━━━━━━━━\u001b[0m \u001b[32m0.1/2.9 MB\u001b[0m \u001b[31m2.7 MB/s\u001b[0m eta \u001b[36m0:00:02\u001b[0m\r\u001b[2K     \u001b[91m━━━━━━━━━━━━\u001b[0m\u001b[91m╸\u001b[0m\u001b[90m━━━━━━━━━━━━━━━━━━━━━━━━━━━\u001b[0m \u001b[32m0.9/2.9 MB\u001b[0m \u001b[31m13.3 MB/s\u001b[0m eta \u001b[36m0:00:01\u001b[0m\r\u001b[2K     \u001b[91m━━━━━━━━━━━━━━━━━━━━━━━━━━━━━━━━━━━━━━━\u001b[0m\u001b[91m╸\u001b[0m \u001b[32m2.9/2.9 MB\u001b[0m \u001b[31m31.0 MB/s\u001b[0m eta \u001b[36m0:00:01\u001b[0m\r\u001b[2K     \u001b[90m━━━━━━━━━━━━━━━━━━━━━━━━━━━━━━━━━━━━━━━━\u001b[0m \u001b[32m2.9/2.9 MB\u001b[0m \u001b[31m25.1 MB/s\u001b[0m eta \u001b[36m0:00:00\u001b[0m\n",
            "\u001b[?25hRequirement already satisfied: torch in /usr/local/lib/python3.10/dist-packages (from easyocr) (2.1.0+cu118)\n",
            "Requirement already satisfied: torchvision>=0.5 in /usr/local/lib/python3.10/dist-packages (from easyocr) (0.16.0+cu118)\n",
            "Requirement already satisfied: opencv-python-headless in /usr/local/lib/python3.10/dist-packages (from easyocr) (4.8.1.78)\n",
            "Requirement already satisfied: scipy in /usr/local/lib/python3.10/dist-packages (from easyocr) (1.11.3)\n",
            "Requirement already satisfied: numpy in /usr/local/lib/python3.10/dist-packages (from easyocr) (1.23.5)\n",
            "Requirement already satisfied: Pillow in /usr/local/lib/python3.10/dist-packages (from easyocr) (9.4.0)\n",
            "Requirement already satisfied: scikit-image in /usr/local/lib/python3.10/dist-packages (from easyocr) (0.19.3)\n",
            "Collecting python-bidi (from easyocr)\n",
            "  Downloading python_bidi-0.4.2-py2.py3-none-any.whl (30 kB)\n",
            "Requirement already satisfied: PyYAML in /usr/local/lib/python3.10/dist-packages (from easyocr) (6.0.1)\n",
            "Requirement already satisfied: Shapely in /usr/local/lib/python3.10/dist-packages (from easyocr) (2.0.2)\n",
            "Collecting pyclipper (from easyocr)\n",
            "  Downloading pyclipper-1.3.0.post5-cp310-cp310-manylinux_2_12_x86_64.manylinux2010_x86_64.whl (908 kB)\n",
            "\u001b[2K     \u001b[90m━━━━━━━━━━━━━━━━━━━━━━━━━━━━━━━━━━━━━━━━\u001b[0m \u001b[32m908.3/908.3 kB\u001b[0m \u001b[31m59.0 MB/s\u001b[0m eta \u001b[36m0:00:00\u001b[0m\n",
            "\u001b[?25hCollecting ninja (from easyocr)\n",
            "  Downloading ninja-1.11.1.1-py2.py3-none-manylinux1_x86_64.manylinux_2_5_x86_64.whl (307 kB)\n",
            "\u001b[2K     \u001b[90m━━━━━━━━━━━━━━━━━━━━━━━━━━━━━━━━━━━━━━━━\u001b[0m \u001b[32m307.2/307.2 kB\u001b[0m \u001b[31m26.5 MB/s\u001b[0m eta \u001b[36m0:00:00\u001b[0m\n",
            "\u001b[?25hRequirement already satisfied: requests in /usr/local/lib/python3.10/dist-packages (from torchvision>=0.5->easyocr) (2.31.0)\n",
            "Requirement already satisfied: filelock in /usr/local/lib/python3.10/dist-packages (from torch->easyocr) (3.12.4)\n",
            "Requirement already satisfied: typing-extensions in /usr/local/lib/python3.10/dist-packages (from torch->easyocr) (4.5.0)\n",
            "Requirement already satisfied: sympy in /usr/local/lib/python3.10/dist-packages (from torch->easyocr) (1.12)\n",
            "Requirement already satisfied: networkx in /usr/local/lib/python3.10/dist-packages (from torch->easyocr) (3.2)\n",
            "Requirement already satisfied: jinja2 in /usr/local/lib/python3.10/dist-packages (from torch->easyocr) (3.1.2)\n",
            "Requirement already satisfied: fsspec in /usr/local/lib/python3.10/dist-packages (from torch->easyocr) (2023.6.0)\n",
            "Requirement already satisfied: triton==2.1.0 in /usr/local/lib/python3.10/dist-packages (from torch->easyocr) (2.1.0)\n",
            "Requirement already satisfied: six in /usr/local/lib/python3.10/dist-packages (from python-bidi->easyocr) (1.16.0)\n",
            "Requirement already satisfied: imageio>=2.4.1 in /usr/local/lib/python3.10/dist-packages (from scikit-image->easyocr) (2.31.6)\n",
            "Requirement already satisfied: tifffile>=2019.7.26 in /usr/local/lib/python3.10/dist-packages (from scikit-image->easyocr) (2023.9.26)\n",
            "Requirement already satisfied: PyWavelets>=1.1.1 in /usr/local/lib/python3.10/dist-packages (from scikit-image->easyocr) (1.4.1)\n",
            "Requirement already satisfied: packaging>=20.0 in /usr/local/lib/python3.10/dist-packages (from scikit-image->easyocr) (23.2)\n",
            "Requirement already satisfied: MarkupSafe>=2.0 in /usr/local/lib/python3.10/dist-packages (from jinja2->torch->easyocr) (2.1.3)\n",
            "Requirement already satisfied: charset-normalizer<4,>=2 in /usr/local/lib/python3.10/dist-packages (from requests->torchvision>=0.5->easyocr) (3.3.1)\n",
            "Requirement already satisfied: idna<4,>=2.5 in /usr/local/lib/python3.10/dist-packages (from requests->torchvision>=0.5->easyocr) (3.4)\n",
            "Requirement already satisfied: urllib3<3,>=1.21.1 in /usr/local/lib/python3.10/dist-packages (from requests->torchvision>=0.5->easyocr) (2.0.7)\n",
            "Requirement already satisfied: certifi>=2017.4.17 in /usr/local/lib/python3.10/dist-packages (from requests->torchvision>=0.5->easyocr) (2023.7.22)\n",
            "Requirement already satisfied: mpmath>=0.19 in /usr/local/lib/python3.10/dist-packages (from sympy->torch->easyocr) (1.3.0)\n",
            "Installing collected packages: pyclipper, ninja, python-bidi, easyocr\n",
            "Successfully installed easyocr-1.7.1 ninja-1.11.1.1 pyclipper-1.3.0.post5 python-bidi-0.4.2\n"
          ]
        }
      ]
    },
    {
      "cell_type": "code",
      "source": [
        "import easyocr\n",
        "import pandas as pd\n",
        "import requests\n",
        "from PIL import Image\n",
        "from io import BytesIO\n",
        "import difflib"
      ],
      "metadata": {
        "id": "S96kxDlB_gTQ"
      },
      "execution_count": 2,
      "outputs": []
    },
    {
      "cell_type": "code",
      "source": [
        "# Initialize the EasyOCR reader\n",
        "reader = easyocr.Reader(['en'])\n",
        "\n",
        "# Load the Excel file with image URLs\n",
        "excel_file_path = \"/content/drive/MyDrive/image dataset/computer_vision_dataframe.xlsx\"\n",
        "df = pd.read_excel(excel_file_path)\n",
        "\n",
        "# Extract and read text from each image URL\n",
        "recognized_text_list = []\n",
        "\n",
        "for image_url in df['MILEAGE PHOTOGRAPHY BEFORE']:\n",
        "    # Download the image from the URL\n",
        "    response = requests.get(image_url)\n",
        "\n",
        "    # Check if the response content is an image (e.g., JPEG, PNG)\n",
        "    if response.headers.get('content-type', '').startswith('image'):\n",
        "        image = Image.open(BytesIO(response.content))\n",
        "\n",
        "        # Read text from the image\n",
        "        text = reader.readtext(image)\n",
        "\n",
        "        # Extract recognized text from the output\n",
        "        recognized_text = ' '.join([item[1] for item in text])\n",
        "        recognized_text_list.append(recognized_text)\n",
        "    else:\n",
        "        # If the content is not an image, add a placeholder or handle the case as needed\n",
        "        recognized_text_list.append(\"Invalid Image\")\n",
        "\n",
        "# Add the recognized text to the DataFrame\n",
        "df['Recognized Text'] = recognized_text_list\n",
        "\n",
        "# Compare recognized text with 'Initial mileage' column\n",
        "df['Model output'] = df['Recognized Text'].str.replace(' km', '')  # Remove 'km'\n",
        "\n",
        "# Calculate the similarity between 'Model output' and 'Initial mileage'\n",
        "df['Similarity'] = df.apply(lambda row: difflib.SequenceMatcher(None, str(row['Initial mileage']), row['Model output']).ratio(), axis=1)\n",
        "\n",
        "# Calculate accuracy as a percentage\n",
        "df['Accuracy'] = df['Similarity'] * 100\n",
        "\n",
        "# Print the updated DataFrame with 'Model output' and 'Accuracy' columns\n",
        "print(df[['Model output', 'Accuracy']])"
      ],
      "metadata": {
        "colab": {
          "base_uri": "https://localhost:8080/"
        },
        "id": "SV41REbcL3gB",
        "outputId": "24436879-aa5e-436e-f3b8-705808ad4668"
      },
      "execution_count": 5,
      "outputs": [
        {
          "output_type": "stream",
          "name": "stderr",
          "text": [
            "WARNING:easyocr.easyocr:Neither CUDA nor MPS are available - defaulting to CPU. Note: This module is much faster with a GPU.\n"
          ]
        },
        {
          "output_type": "stream",
          "name": "stdout",
          "text": [
            "    Model output  Accuracy\n",
            "0  Invalid Image       0.0\n",
            "1  Invalid Image       0.0\n",
            "2  Invalid Image       0.0\n",
            "3  Invalid Image       0.0\n",
            "4  Invalid Image       0.0\n"
          ]
        }
      ]
    },
    {
      "cell_type": "code",
      "source": [
        "# Load the Excel file with image URLs\n",
        "excel_file_path = \"/content/drive/MyDrive/image dataset/computer_vision_dataframe.xlsx\"\n",
        "df = pd.read_excel(excel_file_path)\n",
        "\n",
        "# Loop through each image URL and display the image\n",
        "for image_url in df['MILEAGE PHOTOGRAPHY BEFORE']:\n",
        "    # Download the image from the URL\n",
        "    response = requests.get(image_url)\n",
        "\n",
        "    if response.status_code == 200:\n",
        "        # Create a Pillow Image from the downloaded content\n",
        "        image = Image.open(BytesIO(response.content))\n",
        "\n",
        "        # Display the image\n",
        "        image.show()\n",
        "    else:\n",
        "        print(f\"Failed to download image from URL: {image_url}\")\n"
      ],
      "metadata": {
        "colab": {
          "base_uri": "https://localhost:8080/"
        },
        "id": "DL7XtynEHhLU",
        "outputId": "8ddcb7bd-2d06-4124-e935-10967d66fa94"
      },
      "execution_count": 20,
      "outputs": [
        {
          "output_type": "stream",
          "name": "stdout",
          "text": [
            "Failed to download image from URL: https://drive.google.com/file/d/1CJjzOtceBOZYkgi7_sLpvke3881-f9fZ/view?usp=drive_link\n",
            "Failed to download image from URL: https://drive.google.com/file/d/1rYQ-5GcqE4TAx8finYUbnn5lXSEUluLp/view?usp=drive_link\n",
            "Failed to download image from URL: https://drive.google.com/file/d/14v7NQSz2lccgtPDT9NxH666693egbjIr/view?usp=drive_link\n",
            "Failed to download image from URL: https://drive.google.com/file/d/1J2jfCFfaAxm6n21C0HrNlkEbiA7s-vza/view?usp=drive_link\n",
            "Failed to download image from URL: https://drive.google.com/file/d/1eD1P0dYqAy7DPmyG0ecuX1Yw-ftpQPZM/view?usp=drive_link\n"
          ]
        }
      ]
    },
    {
      "cell_type": "code",
      "source": [
        "import cv2\n",
        "import easyocr\n",
        "\n",
        "# Load the image using OpenCV (cv2)\n",
        "image = cv2.imread(\"/content/drive/MyDrive/image dataset/Image_1.png\")\n",
        "\n",
        "# Initialize the EasyOCR reader\n",
        "reader = easyocr.Reader(['en'])\n",
        "\n",
        "# Read text from the image\n",
        "text = reader.readtext(image)\n",
        "\n",
        "# Extract the recognized text from the output\n",
        "recognized_text = [item[1] for item in text]\n",
        "\n",
        "# Define a function to extract the largest number from a string\n",
        "def extract_largest_number(text):\n",
        "    numbers = [int(word) for word in text.split() if word.isdigit()]\n",
        "    if numbers:\n",
        "        return max(numbers)\n",
        "    else:\n",
        "        return None\n",
        "\n",
        "# Extract the largest number from recognized text\n",
        "largest_number = None\n",
        "for text in recognized_text:\n",
        "    number = extract_largest_number(text)\n",
        "    if number is not None:\n",
        "        if largest_number is None or number > largest_number:\n",
        "            largest_number = number\n",
        "\n",
        "# Print the largest number\n",
        "if largest_number is not None:\n",
        "    print(f\"Largest number: {largest_number}\")\n",
        "else:\n",
        "    print(\"No numbers found in the recognized text.\")\n"
      ],
      "metadata": {
        "colab": {
          "base_uri": "https://localhost:8080/"
        },
        "id": "eYW5ZIw5IAM6",
        "outputId": "a8a97f0c-260c-41f4-df62-4bd2c804c714"
      },
      "execution_count": 7,
      "outputs": [
        {
          "output_type": "stream",
          "name": "stderr",
          "text": [
            "WARNING:easyocr.easyocr:Neither CUDA nor MPS are available - defaulting to CPU. Note: This module is much faster with a GPU.\n"
          ]
        },
        {
          "output_type": "stream",
          "name": "stdout",
          "text": [
            "Largest number: 120\n"
          ]
        }
      ]
    },
    {
      "cell_type": "markdown",
      "source": [
        "### easyocr"
      ],
      "metadata": {
        "id": "RPlFxat-MAYN"
      }
    },
    {
      "cell_type": "code",
      "source": [
        "import easyocr\n",
        "\n",
        "# Initialize the EasyOCR reader\n",
        "reader = easyocr.Reader(['en'])\n",
        "\n",
        "# Read text from an image file\n",
        "text = reader.readtext(\"/content/drive/MyDrive/image dataset/Image_5_crop.png\")\n",
        "\n",
        "# Extract the recognized text from the output\n",
        "recognized_text = []\n",
        "for item in text:\n",
        "    recognized_text.append(item[1])\n",
        "\n",
        "# Print the recognized text\n",
        "print(recognized_text)"
      ],
      "metadata": {
        "colab": {
          "base_uri": "https://localhost:8080/"
        },
        "id": "etyzwQuEJjcJ",
        "outputId": "2b4bdd15-1161-417a-ac45-28b289a62420"
      },
      "execution_count": 6,
      "outputs": [
        {
          "output_type": "stream",
          "name": "stderr",
          "text": [
            "WARNING:easyocr.easyocr:Neither CUDA nor MPS are available - defaulting to CPU. Note: This module is much faster with a GPU.\n"
          ]
        },
        {
          "output_type": "stream",
          "name": "stdout",
          "text": [
            "['2233', '43438', '638']\n"
          ]
        }
      ]
    },
    {
      "cell_type": "markdown",
      "source": [
        "- image 1 - ['I', '226k', '167631', '6*40']\n",
        "- image 2 - ['46', '~iooim', 'ODO', '5309', 'Km']\n",
        "- image 3 - ['ge', 'Cre', '16262', 'KM'] correct\n",
        "- image 4 - ['38620', 'TRIP', '89']\n",
        "- images 5 - ['2233', '43438', '638']\n",
        "after croping images\n"
      ],
      "metadata": {
        "id": "0Rf-LfEtOtFf"
      }
    },
    {
      "cell_type": "markdown",
      "source": [
        "### keras_ocr"
      ],
      "metadata": {
        "id": "MTtCnI90MR9F"
      }
    },
    {
      "cell_type": "code",
      "source": [
        "!pip install keras-ocr"
      ],
      "metadata": {
        "colab": {
          "base_uri": "https://localhost:8080/"
        },
        "id": "8TYTh4BzMXz2",
        "outputId": "f5aa065f-73f8-493e-b4a7-815ba676d1b5"
      },
      "execution_count": 14,
      "outputs": [
        {
          "output_type": "stream",
          "name": "stdout",
          "text": [
            "Collecting keras-ocr\n",
            "  Downloading keras_ocr-0.8.9-py3-none-any.whl (41 kB)\n",
            "\u001b[?25l     \u001b[90m━━━━━━━━━━━━━━━━━━━━━━━━━━━━━━━━━━━━━━━━\u001b[0m \u001b[32m0.0/41.4 kB\u001b[0m \u001b[31m?\u001b[0m eta \u001b[36m-:--:--\u001b[0m\r\u001b[2K     \u001b[90m━━━━━━━━━━━━━━━━━━━━━━━━━━━━━━━━━━━━━━━━\u001b[0m \u001b[32m41.4/41.4 kB\u001b[0m \u001b[31m1.2 MB/s\u001b[0m eta \u001b[36m0:00:00\u001b[0m\n",
            "\u001b[?25hRequirement already satisfied: editdistance in /usr/local/lib/python3.10/dist-packages (from keras-ocr) (0.6.2)\n",
            "Collecting efficientnet==1.0.0 (from keras-ocr)\n",
            "  Downloading efficientnet-1.0.0-py3-none-any.whl (17 kB)\n",
            "Collecting essential_generators (from keras-ocr)\n",
            "  Downloading essential_generators-1.0-py3-none-any.whl (9.5 MB)\n",
            "\u001b[2K     \u001b[90m━━━━━━━━━━━━━━━━━━━━━━━━━━━━━━━━━━━━━━━━\u001b[0m \u001b[32m9.5/9.5 MB\u001b[0m \u001b[31m67.2 MB/s\u001b[0m eta \u001b[36m0:00:00\u001b[0m\n",
            "\u001b[?25hRequirement already satisfied: fonttools in /usr/local/lib/python3.10/dist-packages (from keras-ocr) (4.43.1)\n",
            "Requirement already satisfied: imgaug in /usr/local/lib/python3.10/dist-packages (from keras-ocr) (0.4.0)\n",
            "Requirement already satisfied: pyclipper in /usr/local/lib/python3.10/dist-packages (from keras-ocr) (1.3.0.post5)\n",
            "Requirement already satisfied: shapely in /usr/local/lib/python3.10/dist-packages (from keras-ocr) (2.0.2)\n",
            "Requirement already satisfied: tqdm in /usr/local/lib/python3.10/dist-packages (from keras-ocr) (4.66.1)\n",
            "Collecting validators (from keras-ocr)\n",
            "  Downloading validators-0.22.0-py3-none-any.whl (26 kB)\n",
            "Collecting keras-applications<=1.0.8,>=1.0.7 (from efficientnet==1.0.0->keras-ocr)\n",
            "  Downloading Keras_Applications-1.0.8-py3-none-any.whl (50 kB)\n",
            "\u001b[2K     \u001b[90m━━━━━━━━━━━━━━━━━━━━━━━━━━━━━━━━━━━━━━━━\u001b[0m \u001b[32m50.7/50.7 kB\u001b[0m \u001b[31m5.8 MB/s\u001b[0m eta \u001b[36m0:00:00\u001b[0m\n",
            "\u001b[?25hRequirement already satisfied: scikit-image in /usr/local/lib/python3.10/dist-packages (from efficientnet==1.0.0->keras-ocr) (0.19.3)\n",
            "Requirement already satisfied: six in /usr/local/lib/python3.10/dist-packages (from imgaug->keras-ocr) (1.16.0)\n",
            "Requirement already satisfied: numpy>=1.15 in /usr/local/lib/python3.10/dist-packages (from imgaug->keras-ocr) (1.23.5)\n",
            "Requirement already satisfied: scipy in /usr/local/lib/python3.10/dist-packages (from imgaug->keras-ocr) (1.11.3)\n",
            "Requirement already satisfied: Pillow in /usr/local/lib/python3.10/dist-packages (from imgaug->keras-ocr) (9.4.0)\n",
            "Requirement already satisfied: matplotlib in /usr/local/lib/python3.10/dist-packages (from imgaug->keras-ocr) (3.7.1)\n",
            "Requirement already satisfied: opencv-python in /usr/local/lib/python3.10/dist-packages (from imgaug->keras-ocr) (4.8.0.76)\n",
            "Requirement already satisfied: imageio in /usr/local/lib/python3.10/dist-packages (from imgaug->keras-ocr) (2.31.6)\n",
            "Requirement already satisfied: h5py in /usr/local/lib/python3.10/dist-packages (from keras-applications<=1.0.8,>=1.0.7->efficientnet==1.0.0->keras-ocr) (3.9.0)\n",
            "Requirement already satisfied: networkx>=2.2 in /usr/local/lib/python3.10/dist-packages (from scikit-image->efficientnet==1.0.0->keras-ocr) (3.2)\n",
            "Requirement already satisfied: tifffile>=2019.7.26 in /usr/local/lib/python3.10/dist-packages (from scikit-image->efficientnet==1.0.0->keras-ocr) (2023.9.26)\n",
            "Requirement already satisfied: PyWavelets>=1.1.1 in /usr/local/lib/python3.10/dist-packages (from scikit-image->efficientnet==1.0.0->keras-ocr) (1.4.1)\n",
            "Requirement already satisfied: packaging>=20.0 in /usr/local/lib/python3.10/dist-packages (from scikit-image->efficientnet==1.0.0->keras-ocr) (23.2)\n",
            "Requirement already satisfied: contourpy>=1.0.1 in /usr/local/lib/python3.10/dist-packages (from matplotlib->imgaug->keras-ocr) (1.1.1)\n",
            "Requirement already satisfied: cycler>=0.10 in /usr/local/lib/python3.10/dist-packages (from matplotlib->imgaug->keras-ocr) (0.12.1)\n",
            "Requirement already satisfied: kiwisolver>=1.0.1 in /usr/local/lib/python3.10/dist-packages (from matplotlib->imgaug->keras-ocr) (1.4.5)\n",
            "Requirement already satisfied: pyparsing>=2.3.1 in /usr/local/lib/python3.10/dist-packages (from matplotlib->imgaug->keras-ocr) (3.1.1)\n",
            "Requirement already satisfied: python-dateutil>=2.7 in /usr/local/lib/python3.10/dist-packages (from matplotlib->imgaug->keras-ocr) (2.8.2)\n",
            "Installing collected packages: essential_generators, validators, keras-applications, efficientnet, keras-ocr\n",
            "Successfully installed efficientnet-1.0.0 essential_generators-1.0 keras-applications-1.0.8 keras-ocr-0.8.9 validators-0.22.0\n"
          ]
        }
      ]
    },
    {
      "cell_type": "code",
      "source": [
        "\n",
        "\n",
        "import keras_ocr\n",
        "\n",
        "# Load the recognizer and detector models\n",
        "pipeline = keras_ocr.pipeline.Pipeline()\n",
        "\n",
        "# Read text from an image file\n",
        "image_path = \"/content/drive/MyDrive/image dataset/Image_1.png\"\n",
        "images = [keras_ocr.tools.read(image_path)]\n",
        "predictions = pipeline.recognize(images)\n",
        "\n",
        "# Extract the recognized text\n",
        "recognized_text = [text for (text, confidence) in predictions[0]]\n",
        "\n",
        "# Print the extracted text\n",
        "print(recognized_text)\n"
      ],
      "metadata": {
        "colab": {
          "base_uri": "https://localhost:8080/"
        },
        "id": "cDHxu307L_s1",
        "outputId": "18cf76a8-0c83-4f0d-f9a7-f261651795e6"
      },
      "execution_count": 17,
      "outputs": [
        {
          "output_type": "stream",
          "name": "stdout",
          "text": [
            "Looking for /root/.keras-ocr/craft_mlt_25k.h5\n",
            "Looking for /root/.keras-ocr/crnn_kurapan.h5\n",
            "1/1 [==============================] - 23s 23s/step\n",
            "1/1 [==============================] - 8s 8s/step\n",
            "['8', 'avg', '100', '80', '120', 'e', 'ccsam', '60', '140', 'xiooorpm', '18', 'ises', 'kmih', 'f', '8', '8x0', 'un', 's', '0', '8', 'o', 'trip', 'o', 'ol', 'brake']\n"
          ]
        }
      ]
    },
    {
      "cell_type": "markdown",
      "source": [
        "not good model for reading odometer of car"
      ],
      "metadata": {
        "id": "D_vSwbQpNdbr"
      }
    },
    {
      "cell_type": "code",
      "source": [],
      "metadata": {
        "id": "6JcXn0OWNrAa"
      },
      "execution_count": null,
      "outputs": []
    },
    {
      "cell_type": "markdown",
      "source": [
        "### pyocr"
      ],
      "metadata": {
        "id": "rLrma7miOHT_"
      }
    },
    {
      "cell_type": "code",
      "source": [],
      "metadata": {
        "id": "dNy4jekwOJBQ"
      },
      "execution_count": null,
      "outputs": []
    }
  ]
}